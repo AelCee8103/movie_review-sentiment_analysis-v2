{
 "cells": [
  {
   "cell_type": "markdown",
   "id": "3a55cffc",
   "metadata": {},
   "source": [
    "This notebook is dedicated to comparing different algorithm models. Please do not use the `model_creation` notebook for this purpose, as it is intended solely for the creation of models. Use this notebook for all model comparison tasks."
   ]
  },
  {
   "cell_type": "code",
   "execution_count": 2,
   "id": "4f19bb5f",
   "metadata": {},
   "outputs": [],
   "source": [
    "import joblib\n",
    "\n",
    "# Load all created models\n",
    "logistic_regression_model = joblib.load('logistic_regression.pkl')\n",
    "passive_aggressive_model = joblib.load('passive_aggressive.pkl')\n",
    "xgb_model = joblib.load('XGBoost.pkl')  # Adjust filename if needed\n",
    "\n",
    "# Load the TF-IDF vectorizer\n",
    "tfidf = joblib.load('tfidf_vectorizer.pkl')"
   ]
  }
 ],
 "metadata": {
  "kernelspec": {
   "display_name": "Python 3",
   "language": "python",
   "name": "python3"
  },
  "language_info": {
   "codemirror_mode": {
    "name": "ipython",
    "version": 3
   },
   "file_extension": ".py",
   "mimetype": "text/x-python",
   "name": "python",
   "nbconvert_exporter": "python",
   "pygments_lexer": "ipython3",
   "version": "3.12.6"
  }
 },
 "nbformat": 4,
 "nbformat_minor": 5
}
